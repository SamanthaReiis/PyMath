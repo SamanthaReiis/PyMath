{
 "cells": [
  {
   "cell_type": "markdown",
   "metadata": {},
   "source": [
    "# Geometria Analítica com Python\n",
    "\n",
    " A Geometria Analítica busca descrever objetos da vida real através de equações\n",
    " \n",
    " Python é uma linguagem de programação simples, amigavél e é muito útil para visualizar as principais e mais comuns equações de Geometria Analítica"
   ]
  },
  {
   "cell_type": "markdown",
   "metadata": {},
   "source": [
    "###  1. Operando Vetores em Python\n",
    "\n",
    "Algebricamente um vetor é um par ordenado (vetor bidimensional) ou uma terna ordenada (vetores tridimensionais), por exemplo;\n",
    "\n",
    "$$ \\vec u = {(1, -2, 3)} $$\n",
    "$$ \\vec v = {(0, 2, 2)} $$\n",
    "\n",
    "\n",
    "Usaremos a biblioteca numpy para manipular vetores\n"
   ]
  },
  {
   "cell_type": "code",
   "execution_count": 1,
   "metadata": {},
   "outputs": [],
   "source": [
    "# Importando biblioteca\n",
    "import numpy as np\n"
   ]
  },
  {
   "cell_type": "code",
   "execution_count": 2,
   "metadata": {},
   "outputs": [],
   "source": [
    "# Declarando as variáveis \n",
    "vetor_u = np.array([1, -2, 3])\n",
    "vetor_v = np.array([0, 2, 2])"
   ]
  },
  {
   "cell_type": "markdown",
   "metadata": {},
   "source": [
    " As quatros operações vetorias mais comuns são:\n",
    "  \n",
    "  - Soma\n",
    "  - Multiplicação por escalar\n",
    "  - Produto escalar\n",
    "  - Produto misto\n",
    "  "
   ]
  },
  {
   "cell_type": "code",
   "execution_count": 11,
   "metadata": {},
   "outputs": [
    {
     "name": "stdout",
     "output_type": "stream",
     "text": [
      "A soma vetorial é: [1 0 5]\n",
      "A multiplicação pelo escalar 2 é: [ 2 -4  6]\n"
     ]
    }
   ],
   "source": [
    "# Soma dos vetores u e v\n",
    "soma = vetor_u + vetor_v\n",
    "print('A soma vetorial é:', soma)\n",
    "\n",
    "# Multiplicação por escalar\n",
    "multi = 2 * vetor_u\n",
    "print('A multiplicação pelo escalar 2 é:', multi)"
   ]
  },
  {
   "cell_type": "code",
   "execution_count": 13,
   "metadata": {},
   "outputs": [
    {
     "name": "stdout",
     "output_type": "stream",
     "text": [
      "O produto escalar de u com v é: 2\n"
     ]
    }
   ],
   "source": [
    "# Produto escalar de u com v\n",
    "resultado = np.dot(vetor_u, vetor_v)\n",
    "print('O produto escalar de u com v é:', resultado)"
   ]
  },
  {
   "cell_type": "code",
   "execution_count": 14,
   "metadata": {},
   "outputs": [
    {
     "name": "stdout",
     "output_type": "stream",
     "text": [
      "O produto vetorial de u com v é : [-10  -2   2]\n"
     ]
    }
   ],
   "source": [
    "# Produto vetorial de u com v\n",
    "resultado = np.cross(vetor_u, vetor_v)\n",
    "print('O produto vetorial de u com v é :', resultado)"
   ]
  },
  {
   "cell_type": "markdown",
   "metadata": {},
   "source": [
    "\n",
    "- O produto misto é simplesmente o determinante da matriz quadrada de ordem 3 que tem como linhas os vetores envolvidos."
   ]
  },
  {
   "cell_type": "code",
   "execution_count": 15,
   "metadata": {},
   "outputs": [],
   "source": [
    "# Declarando o vetor \n",
    "vetor_u = np.array([1, -2, 3])\n",
    "\n",
    "# Declarando o vetor v\n",
    "vetor_v = np.array([0, 2, 2])\n",
    "\n",
    "# Declarando o vetor w\n",
    "vetor_w = np.array([1, 2, -1])"
   ]
  },
  {
   "cell_type": "code",
   "execution_count": 16,
   "metadata": {},
   "outputs": [
    {
     "name": "stdout",
     "output_type": "stream",
     "text": [
      "O Produto misto de u, com v e com w é : -15.999999999999998\n"
     ]
    }
   ],
   "source": [
    "# Produto misto de u, com v,, com w\n",
    "resultado = np.linalg.det([\n",
    "    vetor_u,\n",
    "    vetor_v,\n",
    "    vetor_w\n",
    "])\n",
    "\n",
    "print('O Produto misto de u, com v e com w é :', resultado)"
   ]
  },
  {
   "cell_type": "markdown",
   "metadata": {},
   "source": [
    "### Cônicas\n",
    "\n",
    "Na geometria analítica estudam-se, também, as cônicas. Cônicas são lugares geométricos no plano cartesiano ocupados pelos pontos (x,y) que satisfazem equações do tipo\n",
    "\n",
    "$$ Ax^2 + Bxy + Cy^2 + Dx + Ey + F = 0\t $$\n",
    "\n",
    "  - As letras A, B, C, D, E e F são constantes determinadas com A≠0 ou C≠0. \n",
    "  - As cônicas podem ser degeneradas (um ponto ou duas retas), elipses, hipérboles ou parábolas.\n",
    " \n",
    " Os três tipos de cônicas não degeneradas possuem equações padrões que podem ser obtidas da equação acima através de completamento de quadrados e/ou manipulações algébricas simples. Essas equações padrões deixam mais evidentes os elementos importantes de uma cônica. As equações padrões são:\n",
    "  \n",
    "  \n",
    "   ##### Elipse: $$ \\frac{(x - x_0)^2}{a^2} + \\frac{(y - y_0)^2}{b^2} = 1 $$\n",
    "   \n",
    "   \n",
    "   ##### Hipérbole: $$ \\frac{(x - x_0)^2}{a^2} - \\frac{(y - y_0)^2}{b^2} = 1 $$\n",
    "   \n",
    "   \n",
    "   ##### Parábola: $$ y - y_0 = \\frac{1}{4p}(x- x_0)^2 $$\n",
    "\n"
   ]
  },
  {
   "cell_type": "markdown",
   "metadata": {},
   "source": [
    "Nas equações acima a>0, b>0 e p≠0. Usando a biblioteca matplotlib é possível visualizar cônicas geometricamente através de gráficos no plano cartesiano. Para isso, parametrizamos as equações cônicas:\n",
    "\n",
    "- Elipse: $$ \\left \\{ \\begin{matrix} acos(t) + x_0\n",
    "             \\\\ bsen(t) + y_0 \\end{matrix} \\right. , t\\in\\mathbb{R}\t$$\n",
    "             \n",
    "             \n",
    "- Hipérbole: $$ \\left \\{ \\begin{matrix} acosh(t) + x_0\n",
    "             \\\\ bsenh(t) + y_0 \\end{matrix} \\right. , t\\in\\mathbb{R}$$\n",
    "          \n",
    "- Parábola: $$ \\left \\{ \\begin{matrix} x = t + x_0\n",
    "             \\\\ y = \\frac{1}{4p}(t)^2 \\end{matrix} \\right. , t\\in\\mathbb{R}\t$$         \n",
    "             \n"
   ]
  },
  {
   "cell_type": "markdown",
   "metadata": {},
   "source": [
    "### Cônicas em Python"
   ]
  },
  {
   "cell_type": "code",
   "execution_count": 43,
   "metadata": {},
   "outputs": [],
   "source": [
    "# Importando biblioteca\n",
    "import matplotlib.pyplot as plt\n",
    "%matplotlib inline"
   ]
  },
  {
   "cell_type": "markdown",
   "metadata": {},
   "source": [
    " - Elipse "
   ]
  },
  {
   "cell_type": "code",
   "execution_count": 53,
   "metadata": {},
   "outputs": [
    {
     "data": {
      "image/png": "[encoded data removed]",
      "text/plain": [
       "<Figure size 432x288 with 1 Axes>"
      ]
     },
     "metadata": {
      "needs_background": "light"
     },
     "output_type": "display_data"
    }
   ],
   "source": [
    "# Declarando as constantes\n",
    "a, b, x0, y0 = 3, 2, -2, 1,\n",
    "\n",
    "# Variação do parâmetro t\n",
    "t = np.linspace(-2 * np.pi, 2 * np.pi, 100)\n",
    "\n",
    "# Equações paramétricas\n",
    "\n",
    "x = a * np.cos(t) + x0\n",
    "y= b * np.sin(t) + y0\n",
    "\n",
    "# Fazer o gráfico\n",
    "plt.plot(x, y,)\n",
    "plt.title('Elipse', color= 'r', fontsize=18)\n",
    "\n",
    "\n",
    "# Variações dos eixos \n",
    "plt.axis([-6, 2, -3, 5])\n",
    "\n",
    "# Plotar o gráfico\n",
    "plt.show()\n"
   ]
  },
  {
   "cell_type": "markdown",
   "metadata": {},
   "source": [
    " - Hipérbole"
   ]
  },
  {
   "cell_type": "code",
   "execution_count": 52,
   "metadata": {},
   "outputs": [
    {
     "data": {
      "image/png": "[encoded data removed]",
      "text/plain": [
       "<Figure size 432x288 with 1 Axes>"
      ]
     },
     "metadata": {
      "needs_background": "light"
     },
     "output_type": "display_data"
    }
   ],
   "source": [
    "# Declarando as constantes\n",
    "a, b, x0, y0 = 3, 2, -2, 1,\n",
    "\n",
    "# Variação do parâmetro t\n",
    "t = np.linspace(-1, 1, 100)\n",
    "\n",
    "# Equações paramétricas\n",
    "\n",
    "x = a * np.cosh(t) + x0\n",
    "y= b * np.sinh(t) + y0\n",
    "\n",
    "# Fazer o gráfico\n",
    "plt.plot(x, y, color='r')\n",
    "plt.plot(-x, y, color='r')\n",
    "plt.title('Hipérbole', color= 'blue', fontsize=18)\n",
    "\n",
    "# Variações dos eixos \n",
    "plt.axis([-5, 5, -2, 4])\n",
    "\n",
    "# Plotar o gráfico\n",
    "plt.show()"
   ]
  },
  {
   "cell_type": "markdown",
   "metadata": {},
   "source": [
    " - Parábola"
   ]
  },
  {
   "cell_type": "code",
   "execution_count": 55,
   "metadata": {},
   "outputs": [
    {
     "data": {
      "image/png": "[encoded data removed]",
      "text/plain": [
       "<Figure size 432x288 with 1 Axes>"
      ]
     },
     "metadata": {
      "needs_background": "light"
     },
     "output_type": "display_data"
    }
   ],
   "source": [
    "# Declarando as constantes\n",
    "p, x0, y0 = 2, -2, 1,\n",
    "\n",
    "# Variação do parâmetro t\n",
    "t = np.linspace(-4, 4, 100)\n",
    "\n",
    "# Equações paramétricas\n",
    "\n",
    "x = t + x0\n",
    "y= (1/ (4*p)) * t ** 2\n",
    "\n",
    "# Fazer o gráfico\n",
    "plt.plot(x, y, color='green')\n",
    "plt.title('Parábola', color= 'y', fontsize=18)\n",
    "\n",
    "\n",
    "# Variações dos eixos \n",
    "plt.axis([-7, 3, -1, 3])\n",
    "\n",
    "# Plotar o gráfico\n",
    "plt.show()"
   ]
  },
  {
   "cell_type": "markdown",
   "metadata": {},
   "source": [
    "### Equações Polares\n"
   ]
  },
  {
   "cell_type": "code",
   "execution_count": null,
   "metadata": {},
   "outputs": [],
   "source": []
  },
  {
   "cell_type": "code",
   "execution_count": null,
   "metadata": {},
   "outputs": [],
   "source": []
  },
  {
   "cell_type": "code",
   "execution_count": null,
   "metadata": {},
   "outputs": [],
   "source": []
  }
 ],
 "metadata": {
  "kernelspec": {
   "display_name": "Python 3",
   "language": "python",
   "name": "python3"
  },
  "language_info": {
   "codemirror_mode": {
    "name": "ipython",
    "version": 3
   },
   "file_extension": ".py",
   "mimetype": "text/x-python",
   "name": "python",
   "nbconvert_exporter": "python",
   "pygments_lexer": "ipython3",
   "version": "3.7.5"
  }
 },
 "nbformat": 4,
 "nbformat_minor": 2
}
